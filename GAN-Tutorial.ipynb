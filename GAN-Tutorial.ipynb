{
  "nbformat": 4,
  "nbformat_minor": 0,
  "metadata": {
    "colab": {
      "name": "Untitled2.ipynb",
      "provenance": [],
      "authorship_tag": "ABX9TyOL8h11FwCcKlXMWoEAu9cd",
      "include_colab_link": true
    },
    "kernelspec": {
      "name": "python3",
      "display_name": "Python 3"
    },
    "language_info": {
      "name": "python"
    }
  },
  "cells": [
    {
      "cell_type": "markdown",
      "metadata": {
        "id": "view-in-github",
        "colab_type": "text"
      },
      "source": [
        "<a href=\"https://colab.research.google.com/github/chrismayemba/covid-19-open-data/blob/br-fix/GAN-Tutorial.ipynb\" target=\"_parent\"><img src=\"https://colab.research.google.com/assets/colab-badge.svg\" alt=\"Open In Colab\"/></a>"
      ]
    },
    {
      "cell_type": "code",
      "metadata": {
        "id": "ur7ozuWAVR_g"
      },
      "source": [
        "import torch\n",
        "from torch import nn\n",
        "\n",
        "import math\n",
        "import matplotlib.pyplot as plt"
      ],
      "execution_count": 1,
      "outputs": []
    },
    {
      "cell_type": "code",
      "metadata": {
        "colab": {
          "base_uri": "https://localhost:8080/"
        },
        "id": "-to9HnOcVZAy",
        "outputId": "23176f65-4432-43eb-9d13-ce110167571f"
      },
      "source": [
        "torch.manual_seed(111)"
      ],
      "execution_count": 2,
      "outputs": [
        {
          "output_type": "execute_result",
          "data": {
            "text/plain": [
              "<torch._C.Generator at 0x7f724daf8830>"
            ]
          },
          "metadata": {
            "tags": []
          },
          "execution_count": 2
        }
      ]
    },
    {
      "cell_type": "code",
      "metadata": {
        "id": "O22CTDu3VidB"
      },
      "source": [
        "train_data_length = 1024\n",
        "train_data = torch.zeros((train_data_length, 2))\n",
        "train_data[:, 0] = 2 * math.pi * torch.rand(train_data_length)\n",
        "train_data[:, 1] = torch.sin(train_data[:, 0])\n",
        "train_labels = torch.zeros(train_data_length)\n",
        "train_set = [\n",
        "    (train_data[i], train_labels[i]) for i in range(train_data_length)\n",
        "]"
      ],
      "execution_count": 3,
      "outputs": []
    },
    {
      "cell_type": "code",
      "metadata": {
        "colab": {
          "base_uri": "https://localhost:8080/",
          "height": 282
        },
        "id": "W-2WzXX2VqFQ",
        "outputId": "d43cd1bd-8838-4d2d-fb37-8ea85c63c457"
      },
      "source": [
        "plt.plot(train_data[:, 0], train_data[:, 1], \".\")"
      ],
      "execution_count": 4,
      "outputs": [
        {
          "output_type": "execute_result",
          "data": {
            "text/plain": [
              "[<matplotlib.lines.Line2D at 0x7f724cf0f6d0>]"
            ]
          },
          "metadata": {
            "tags": []
          },
          "execution_count": 4
        },
        {
          "output_type": "display_data",
          "data": {
            "image/png": "[encoded data removed]",
            "text/plain": [
              "<Figure size 432x288 with 1 Axes>"
            ]
          },
          "metadata": {
            "tags": [],
            "needs_background": "light"
          }
        }
      ]
    },
    {
      "cell_type": "code",
      "metadata": {
        "id": "BmEYA6xrVuAX"
      },
      "source": [
        "train_data_length = 1024\n",
        "train_data = torch.zeros((train_data_length, 2))\n",
        "train_data[:, 0] = 2 * math.pi * torch.rand(train_data_length)\n",
        "train_data[:, 1] = torch.sin(train_data[:, 0])\n",
        "train_labels = torch.zeros(train_data_length)\n",
        "train_set = [\n",
        "    (train_data[i], train_labels[i]) for i in range(train_data_length)\n",
        "]"
      ],
      "execution_count": 5,
      "outputs": []
    },
    {
      "cell_type": "code",
      "metadata": {
        "colab": {
          "base_uri": "https://localhost:8080/",
          "height": 282
        },
        "id": "pea_IqXPV06D",
        "outputId": "6697f5bb-3600-4142-c8e3-cfe7e86b52ee"
      },
      "source": [
        "plt.plot(train_data[:, 0], train_data[:, 1], \".\")\n"
      ],
      "execution_count": 6,
      "outputs": [
        {
          "output_type": "execute_result",
          "data": {
            "text/plain": [
              "[<matplotlib.lines.Line2D at 0x7f724c9e5850>]"
            ]
          },
          "metadata": {
            "tags": []
          },
          "execution_count": 6
        },
        {
          "output_type": "display_data",
          "data": {
            "image/png": "[encoded data removed]",
            "text/plain": [
              "<Figure size 432x288 with 1 Axes>"
            ]
          },
          "metadata": {
            "tags": [],
            "needs_background": "light"
          }
        }
      ]
    },
    {
      "cell_type": "code",
      "metadata": {
        "id": "HPLBSCJ3V-Jb"
      },
      "source": [
        "batch_size = 32\n",
        "train_loader = torch.utils.data.DataLoader(\n",
        "    train_set, batch_size=batch_size, shuffle=True\n",
        ")"
      ],
      "execution_count": 7,
      "outputs": []
    },
    {
      "cell_type": "code",
      "metadata": {
        "id": "1-w7pyOHWFXs"
      },
      "source": [
        "class Discriminator(nn.Module):\n",
        "    def __init__(self):\n",
        "        super().__init__()\n",
        "        self.model = nn.Sequential(\n",
        "            nn.Linear(2, 256),\n",
        "            nn.ReLU(),\n",
        "            nn.Dropout(0.3),\n",
        "            nn.Linear(256, 128),\n",
        "            nn.ReLU(),\n",
        "            nn.Dropout(0.3),\n",
        "            nn.Linear(128, 64),\n",
        "            nn.ReLU(),\n",
        "            nn.Dropout(0.3),\n",
        "            nn.Linear(64, 1),\n",
        "            nn.Sigmoid(),\n",
        "        )\n",
        "\n",
        "    def forward(self, x):\n",
        "      output = self.model(x)\n",
        "      return output\n"
      ],
      "execution_count": 9,
      "outputs": []
    },
    {
      "cell_type": "code",
      "metadata": {
        "id": "mYbWr_dqWU6d"
      },
      "source": [
        "discriminator = Discriminator()"
      ],
      "execution_count": 11,
      "outputs": []
    },
    {
      "cell_type": "code",
      "metadata": {
        "id": "n2av8SiUWdzl"
      },
      "source": [
        "class Generator(nn.Module):\n",
        "    def __init__(self):\n",
        "        super().__init__()\n",
        "        self.model = nn.Sequential(\n",
        "            nn.Linear(2, 16),\n",
        "            nn.ReLU(),\n",
        "            nn.Linear(16, 32),\n",
        "            nn.ReLU(),\n",
        "            nn.Linear(32, 2),\n",
        "        )\n",
        "\n",
        "    def forward(self, x):\n",
        "        output = self.model(x)\n",
        "        return output\n",
        "\n",
        "generator = Generator()"
      ],
      "execution_count": 12,
      "outputs": []
    },
    {
      "cell_type": "code",
      "metadata": {
        "id": "BCAAhr2sWi_s"
      },
      "source": [
        "lr = 0.001\n",
        "num_epochs = 300\n",
        "loss_function = nn.BCELoss()\n"
      ],
      "execution_count": 13,
      "outputs": []
    },
    {
      "cell_type": "code",
      "metadata": {
        "id": "zFbFjH_yWnaS"
      },
      "source": [
        "optimizer_discriminator = torch.optim.Adam(discriminator.parameters(), lr=lr)\n",
        "optimizer_generator = torch.optim.Adam(generator.parameters(), lr=lr)"
      ],
      "execution_count": 14,
      "outputs": []
    },
    {
      "cell_type": "code",
      "metadata": {
        "colab": {
          "base_uri": "https://localhost:8080/"
        },
        "id": "HMbhznejWthl",
        "outputId": "1e9aa5b4-7119-4b0c-b349-a1bdf84e90c2"
      },
      "source": [
        "for epoch in range(num_epochs):\n",
        "    for n, (real_samples, _) in enumerate(train_loader):\n",
        "        # Data for training the discriminator\n",
        "        real_samples_labels = torch.ones((batch_size, 1))\n",
        "        latent_space_samples = torch.randn((batch_size, 2))\n",
        "        generated_samples = generator(latent_space_samples)\n",
        "        generated_samples_labels = torch.zeros((batch_size, 1))\n",
        "        all_samples = torch.cat((real_samples, generated_samples))\n",
        "        all_samples_labels = torch.cat(\n",
        "            (real_samples_labels, generated_samples_labels)\n",
        "        )\n",
        "\n",
        "        # Training the discriminator\n",
        "        discriminator.zero_grad()\n",
        "        output_discriminator = discriminator(all_samples)\n",
        "        loss_discriminator = loss_function(\n",
        "            output_discriminator, all_samples_labels)\n",
        "        loss_discriminator.backward()\n",
        "        optimizer_discriminator.step()\n",
        "\n",
        "        # Data for training the generator\n",
        "        latent_space_samples = torch.randn((batch_size, 2))\n",
        "\n",
        "        # Training the generator\n",
        "        generator.zero_grad()\n",
        "        generated_samples = generator(latent_space_samples)\n",
        "        output_discriminator_generated = discriminator(generated_samples)\n",
        "        loss_generator = loss_function(\n",
        "            output_discriminator_generated, real_samples_labels\n",
        "        )\n",
        "        loss_generator.backward()\n",
        "        optimizer_generator.step()\n",
        "\n",
        "        # Show loss\n",
        "        if epoch % 10 == 0 and n == batch_size - 1:\n",
        "            print(f\"Epoch: {epoch} Loss D.: {loss_discriminator}\")\n",
        "            print(f\"Epoch: {epoch} Loss G.: {loss_generator}\")"
      ],
      "execution_count": 16,
      "outputs": [
        {
          "output_type": "stream",
          "text": [
            "Epoch: 0 Loss D.: 0.1319427192211151\n",
            "Epoch: 0 Loss G.: 2.1414618492126465\n",
            "Epoch: 10 Loss D.: 0.6088398098945618\n",
            "Epoch: 10 Loss G.: 0.9455028772354126\n",
            "Epoch: 20 Loss D.: 0.5946186780929565\n",
            "Epoch: 20 Loss G.: 0.8376032114028931\n",
            "Epoch: 30 Loss D.: 0.6955821514129639\n",
            "Epoch: 30 Loss G.: 0.922143280506134\n",
            "Epoch: 40 Loss D.: 0.7141282558441162\n",
            "Epoch: 40 Loss G.: 0.5810321569442749\n",
            "Epoch: 50 Loss D.: 0.64363032579422\n",
            "Epoch: 50 Loss G.: 0.6841025352478027\n",
            "Epoch: 60 Loss D.: 0.7818278074264526\n",
            "Epoch: 60 Loss G.: 0.6904975175857544\n",
            "Epoch: 70 Loss D.: 0.5975615978240967\n",
            "Epoch: 70 Loss G.: 0.9175047874450684\n",
            "Epoch: 80 Loss D.: 0.670281708240509\n",
            "Epoch: 80 Loss G.: 0.801178514957428\n",
            "Epoch: 90 Loss D.: 0.6019529700279236\n",
            "Epoch: 90 Loss G.: 0.9277558922767639\n",
            "Epoch: 100 Loss D.: 0.6805084943771362\n",
            "Epoch: 100 Loss G.: 0.6951378583908081\n",
            "Epoch: 110 Loss D.: 0.7121015787124634\n",
            "Epoch: 110 Loss G.: 0.6851693987846375\n",
            "Epoch: 120 Loss D.: 0.7089710831642151\n",
            "Epoch: 120 Loss G.: 0.6583783626556396\n",
            "Epoch: 130 Loss D.: 0.6704517602920532\n",
            "Epoch: 130 Loss G.: 0.7225052118301392\n",
            "Epoch: 140 Loss D.: 0.6827112436294556\n",
            "Epoch: 140 Loss G.: 0.7062815427780151\n",
            "Epoch: 150 Loss D.: 0.7085480093955994\n",
            "Epoch: 150 Loss G.: 0.7443155646324158\n",
            "Epoch: 160 Loss D.: 0.6816362142562866\n",
            "Epoch: 160 Loss G.: 0.7044767737388611\n",
            "Epoch: 170 Loss D.: 0.6588997840881348\n",
            "Epoch: 170 Loss G.: 0.7185128331184387\n",
            "Epoch: 180 Loss D.: 0.7219178080558777\n",
            "Epoch: 180 Loss G.: 0.7048718333244324\n",
            "Epoch: 190 Loss D.: 0.693561851978302\n",
            "Epoch: 190 Loss G.: 0.720308244228363\n",
            "Epoch: 200 Loss D.: 0.666608452796936\n",
            "Epoch: 200 Loss G.: 0.7853803634643555\n",
            "Epoch: 210 Loss D.: 0.6742797493934631\n",
            "Epoch: 210 Loss G.: 0.7708022594451904\n",
            "Epoch: 220 Loss D.: 0.6989683508872986\n",
            "Epoch: 220 Loss G.: 0.8079574108123779\n",
            "Epoch: 230 Loss D.: 0.6601229906082153\n",
            "Epoch: 230 Loss G.: 0.7983537912368774\n",
            "Epoch: 240 Loss D.: 0.6685092449188232\n",
            "Epoch: 240 Loss G.: 0.6974372267723083\n",
            "Epoch: 250 Loss D.: 0.577825129032135\n",
            "Epoch: 250 Loss G.: 0.963017463684082\n",
            "Epoch: 260 Loss D.: 0.6477705240249634\n",
            "Epoch: 260 Loss G.: 0.8032753467559814\n",
            "Epoch: 270 Loss D.: 0.694381833076477\n",
            "Epoch: 270 Loss G.: 0.6845149397850037\n",
            "Epoch: 280 Loss D.: 0.5853030681610107\n",
            "Epoch: 280 Loss G.: 0.8658874034881592\n",
            "Epoch: 290 Loss D.: 0.593855619430542\n",
            "Epoch: 290 Loss G.: 1.2970731258392334\n"
          ],
          "name": "stdout"
        }
      ]
    },
    {
      "cell_type": "code",
      "metadata": {
        "id": "uH11RbF9W5on"
      },
      "source": [
        "latent_space_samples = torch.randn(100, 2)\n",
        "generated_samples = generator(latent_space_samples)"
      ],
      "execution_count": 17,
      "outputs": []
    },
    {
      "cell_type": "code",
      "metadata": {
        "colab": {
          "base_uri": "https://localhost:8080/",
          "height": 282
        },
        "id": "rKDSOY4_XfYt",
        "outputId": "1fe351d3-ae48-49d5-d356-8cfaf9dfaa45"
      },
      "source": [
        "generated_samples = generated_samples.detach()\n",
        "plt.plot(generated_samples[:, 0], generated_samples[:, 1], \".\")"
      ],
      "execution_count": 18,
      "outputs": [
        {
          "output_type": "execute_result",
          "data": {
            "text/plain": [
              "[<matplotlib.lines.Line2D at 0x7f724c8e1590>]"
            ]
          },
          "metadata": {
            "tags": []
          },
          "execution_count": 18
        },
        {
          "output_type": "display_data",
          "data": {
            "image/png": "[encoded data removed]",
            "text/plain": [
              "<Figure size 432x288 with 1 Axes>"
            ]
          },
          "metadata": {
            "tags": [],
            "needs_background": "light"
          }
        }
      ]
    },
    {
      "cell_type": "code",
      "metadata": {
        "id": "b75OB6oTXizr"
      },
      "source": [
        ""
      ],
      "execution_count": null,
      "outputs": []
    }
  ]
}